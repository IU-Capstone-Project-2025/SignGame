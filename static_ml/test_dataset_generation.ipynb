{
 "cells": [
  {
   "cell_type": "code",
   "execution_count": 1,
   "metadata": {},
   "outputs": [],
   "source": [
    "from PIL import Image, ImageEnhance, ImageFilter, ImageTransform\n",
    "import random\n",
    "from collections import Counter\n",
    "import numpy as np\n",
    "import cv2"
   ]
  },
  {
   "cell_type": "code",
   "execution_count": 8,
   "metadata": {},
   "outputs": [],
   "source": [
    "\n",
    "def slightly_change_image(image_path, output_path):\n",
    "    img = Image.open(image_path)\n",
    "    \n",
    "    modifications = random.sample([\n",
    "        'brightness', 'contrast', 'color', 'sharpness', 'blur', 'rotate', 'resize'\n",
    "    ], random.randint(1, 3))\n",
    "    \n",
    "    for mod in modifications:\n",
    "        if mod == 'brightness':\n",
    "            enhancer = ImageEnhance.Brightness(img)\n",
    "            img = enhancer.enhance(random.uniform(0.9, 1.5))\n",
    "        elif mod == 'contrast':\n",
    "            enhancer = ImageEnhance.Contrast(img)\n",
    "            img = enhancer.enhance(random.uniform(0.8, 1.1))\n",
    "        elif mod == 'color':\n",
    "            enhancer = ImageEnhance.Color(img)\n",
    "            img = enhancer.enhance(random.uniform(0.8, 1.2))\n",
    "        elif mod == 'sharpness':\n",
    "            enhancer = ImageEnhance.Sharpness(img)\n",
    "            img = enhancer.enhance(random.uniform(0.8, 1.3))\n",
    "        elif mod == 'blur':\n",
    "            img = img.filter(ImageFilter.GaussianBlur(radius=random.uniform(0.1, 0.7)))\n",
    "        elif mod == 'rotate':\n",
    "            img = img.rotate(random.uniform(-10, 10), expand=True)\n",
    "        elif mod == 'resize':\n",
    "            width, height = img.size\n",
    "            x = random.randint(1,2)\n",
    "            if x == 1:\n",
    "                img = cv2.resize(img, dsize = (width / random.randint(1,3), height / random.randint(1,3)))\n",
    "            else:\n",
    "                img = cv2.resize(img, dsize = (width * random.randint(1,3), height * random.randint(1,3)))\n",
    "    img.save(output_path)"
   ]
  },
  {
   "cell_type": "code",
   "execution_count": 5,
   "metadata": {},
   "outputs": [
    {
     "data": {
      "text/plain": [
       "['air1.png',\n",
       " 'air2.png',\n",
       " 'air3.png',\n",
       " 'dark1.png',\n",
       " 'dark2.png',\n",
       " 'dark3.png',\n",
       " 'earth1.png',\n",
       " 'earth2.png',\n",
       " 'earth3.png',\n",
       " 'fire1.png',\n",
       " 'fire2.png',\n",
       " 'fire3.png',\n",
       " 'life1.png',\n",
       " 'life2.png',\n",
       " 'life3.png',\n",
       " 'light1.png',\n",
       " 'light2.png',\n",
       " 'light3.png',\n",
       " 'poison1.png',\n",
       " 'poison2.png',\n",
       " 'poison3.png',\n",
       " 'reflection1.png',\n",
       " 'reflection2.png',\n",
       " 'reflection3.png',\n",
       " 'water1.png',\n",
       " 'water2.png',\n",
       " 'water3.png']"
      ]
     },
     "execution_count": 5,
     "metadata": {},
     "output_type": "execute_result"
    }
   ],
   "source": [
    "from os import listdir\n",
    "from os.path import isfile, join\n",
    "figures = [f for f in listdir('etalon') if isfile(join('etalon', f))]\n",
    "figures"
   ]
  },
  {
   "cell_type": "code",
   "execution_count": 9,
   "metadata": {},
   "outputs": [
    {
     "name": "stdout",
     "output_type": "stream",
     "text": [
      "27 27\n"
     ]
    },
    {
     "ename": "error",
     "evalue": "OpenCV(4.11.0) :-1: error: (-5:Bad argument) in function 'resize'\n> Overload resolution failed:\n>  - src is not a numpy array, neither a scalar\n>  - Expected Ptr<cv::UMat> for argument 'src'\n",
     "output_type": "error",
     "traceback": [
      "\u001b[1;31m---------------------------------------------------------------------------\u001b[0m",
      "\u001b[1;31merror\u001b[0m                                     Traceback (most recent call last)",
      "Cell \u001b[1;32mIn[9], line 7\u001b[0m\n\u001b[0;32m      5\u001b[0m figure \u001b[39m=\u001b[39m figures[random\u001b[39m.\u001b[39mrandint(\u001b[39m0\u001b[39m,\u001b[39mlen\u001b[39m(cnt))]\n\u001b[0;32m      6\u001b[0m cnt[figure] \u001b[39m+\u001b[39m\u001b[39m=\u001b[39m \u001b[39m1\u001b[39m\n\u001b[1;32m----> 7\u001b[0m slightly_change_image(\u001b[39m'\u001b[39;49m\u001b[39metalon/\u001b[39;49m\u001b[39m'\u001b[39;49m \u001b[39m+\u001b[39;49m figure, \u001b[39m'\u001b[39;49m\u001b[39mimages/\u001b[39;49m\u001b[39m'\u001b[39;49m  \u001b[39m+\u001b[39;49m figure[:figure\u001b[39m.\u001b[39;49mfind(\u001b[39m'\u001b[39;49m\u001b[39m.\u001b[39;49m\u001b[39m'\u001b[39;49m)] \u001b[39m+\u001b[39;49m\u001b[39m'\u001b[39;49m\u001b[39m-\u001b[39;49m\u001b[39m'\u001b[39;49m \u001b[39m+\u001b[39;49m\u001b[39mstr\u001b[39;49m(cnt[figure]) \u001b[39m+\u001b[39;49m \u001b[39m'\u001b[39;49m\u001b[39m.png\u001b[39;49m\u001b[39m'\u001b[39;49m)\n",
      "Cell \u001b[1;32mIn[8], line 31\u001b[0m, in \u001b[0;36mslightly_change_image\u001b[1;34m(image_path, output_path)\u001b[0m\n\u001b[0;32m     29\u001b[0m             img \u001b[39m=\u001b[39m cv2\u001b[39m.\u001b[39mresize(img, dsize \u001b[39m=\u001b[39m (width \u001b[39m/\u001b[39m random\u001b[39m.\u001b[39mrandint(\u001b[39m1\u001b[39m,\u001b[39m3\u001b[39m), height \u001b[39m/\u001b[39m random\u001b[39m.\u001b[39mrandint(\u001b[39m1\u001b[39m,\u001b[39m3\u001b[39m)))\n\u001b[0;32m     30\u001b[0m         \u001b[39melse\u001b[39;00m:\n\u001b[1;32m---> 31\u001b[0m             img \u001b[39m=\u001b[39m cv2\u001b[39m.\u001b[39;49mresize(img, dsize \u001b[39m=\u001b[39;49m (width \u001b[39m*\u001b[39;49m random\u001b[39m.\u001b[39;49mrandint(\u001b[39m1\u001b[39;49m,\u001b[39m3\u001b[39;49m), height \u001b[39m*\u001b[39;49m random\u001b[39m.\u001b[39;49mrandint(\u001b[39m1\u001b[39;49m,\u001b[39m3\u001b[39;49m)))\n\u001b[0;32m     32\u001b[0m img\u001b[39m.\u001b[39msave(output_path)\n",
      "\u001b[1;31merror\u001b[0m: OpenCV(4.11.0) :-1: error: (-5:Bad argument) in function 'resize'\n> Overload resolution failed:\n>  - src is not a numpy array, neither a scalar\n>  - Expected Ptr<cv::UMat> for argument 'src'\n"
     ]
    }
   ],
   "source": [
    "from collections import Counter\n",
    "cnt = Counter(figures)\n",
    "print(len(cnt), len(figures))\n",
    "for i in range(len(cnt) * 150):\n",
    "    figure = figures[random.randint(0,len(cnt))]\n",
    "    cnt[figure] += 1\n",
    "    slightly_change_image('etalon/' + figure, 'images/'  + figure[:figure.find('.')] +'-' +str(cnt[figure]) + '.png')"
   ]
  }
 ],
 "metadata": {
  "kernelspec": {
   "display_name": "Python 3",
   "language": "python",
   "name": "python3"
  },
  "language_info": {
   "codemirror_mode": {
    "name": "ipython",
    "version": 3
   },
   "file_extension": ".py",
   "mimetype": "text/x-python",
   "name": "python",
   "nbconvert_exporter": "python",
   "pygments_lexer": "ipython3",
   "version": "3.10.0"
  },
  "orig_nbformat": 4
 },
 "nbformat": 4,
 "nbformat_minor": 2
}
