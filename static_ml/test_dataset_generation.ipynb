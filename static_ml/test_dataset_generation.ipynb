{
 "cells": [
  {
   "cell_type": "code",
   "execution_count": 1,
   "metadata": {},
   "outputs": [],
   "source": [
    "from PIL import Image, ImageEnhance, ImageFilter, ImageDraw\n",
    "import random\n",
    "import numpy as np\n",
    "import cv2\n",
    "import os\n",
    "from skimage.util import random_noise"
   ]
  },
  {
   "cell_type": "code",
   "execution_count": 7,
   "metadata": {},
   "outputs": [],
   "source": [
    "def generate_realistic_variations(image_path, output_path):\n",
    "    img = Image.open(image_path)\n",
    "    \n",
    "    # Ensure the image has a white background (convert transparent/black to white)\n",
    "    img = img.convert('RGBA')\n",
    "    white_bg = Image.new('RGBA', img.size, (255, 255, 255, 255))\n",
    "    img = Image.alpha_composite(white_bg, img)\n",
    "    img = img.convert('L')  # Convert to grayscale\n",
    "    \n",
    "    # Base modifications that should always be applied\n",
    "    modifications = [\n",
    "        'brightness', 'contrast', 'rotate', 'resize', \n",
    "        'noise', 'thickness', 'partial_occlusion'\n",
    "    ]\n",
    "    \n",
    "    # Apply 4-6 random modifications (more variability than before)\n",
    "    selected_mods = random.sample(modifications, random.randint(4, 6))\n",
    "    \n",
    "    for mod in selected_mods:\n",
    "        try:\n",
    "            if mod == 'brightness':\n",
    "                enhancer = ImageEnhance.Brightness(img)\n",
    "                img = enhancer.enhance(random.uniform(0.7, 1.5))  # Wider range\n",
    "            \n",
    "            elif mod == 'contrast':\n",
    "                enhancer = ImageEnhance.Contrast(img)\n",
    "                img = enhancer.enhance(random.uniform(0.7, 1.5))\n",
    "            \n",
    "            elif mod == 'rotate':\n",
    "                angle = random.uniform(-15, 15)  # Slightly larger rotation\n",
    "                # Rotate on white background\n",
    "                white_bg = Image.new('L', img.size, 255)\n",
    "                img = img.rotate(angle, expand=True, resample=Image.BICUBIC, fillcolor=255)\n",
    "                # If rotation expanded the image, composite on white\n",
    "                if angle != 0:\n",
    "                    new_size = img.size\n",
    "                    new_bg = Image.new('L', new_size, 255)\n",
    "                    position = ((new_size[0]-img.size[0])//2, (new_size[1]-img.size[1])//2)\n",
    "                    new_bg.paste(img, position)\n",
    "                    img = new_bg\n",
    "            \n",
    "            elif mod == 'resize':\n",
    "                scale_factor = random.uniform(0.8, 1.5)  # More constrained range\n",
    "                width, height = img.size\n",
    "                new_width = int(width * scale_factor)\n",
    "                new_height = int(height * scale_factor)\n",
    "                img = img.resize((new_width, new_height), Image.LANCZOS)\n",
    "                # After resize, put on white canvas of original size\n",
    "                if scale_factor != 1.0:\n",
    "                    original_size = Image.open(image_path).size\n",
    "                    white_bg = Image.new('L', original_size, 255)\n",
    "                    position = ((original_size[0]-new_width)//2, (original_size[1]-new_height)//2)\n",
    "                    white_bg.paste(img, position)\n",
    "                    img = white_bg\n",
    "            \n",
    "            elif mod == 'noise':\n",
    "                # Convert to array for noise addition\n",
    "                img_array = np.array(img)\n",
    "                if len(img_array.shape) == 2:  # Grayscale\n",
    "                    img_array = random_noise(img_array, mode='gaussian', var=0.001)\n",
    "                img = Image.fromarray((img_array * 255).astype(np.uint8))\n",
    "                # Ensure background stays white\n",
    "                img = img.point(lambda p: 255 if p > 200 else p)\n",
    "            \n",
    "            elif mod == 'thickness':\n",
    "                # Simulate variable stroke thickness\n",
    "                img_array = np.array(img)\n",
    "                if len(img_array.shape) == 2:  # Grayscale\n",
    "                    kernel_size = random.randint(1, 3)\n",
    "                    img_array = cv2.dilate(img_array, \n",
    "                                         np.ones((kernel_size,kernel_size), np.uint8),\n",
    "                                         iterations=1)\n",
    "                    img = Image.fromarray(img_array)\n",
    "                # Ensure background stays white\n",
    "                img = img.point(lambda p: 255 if p > 200 else p)\n",
    "            \n",
    "            elif mod == 'partial_occlusion':\n",
    "                # Add random occlusion patches - only white rectangles now\n",
    "                draw = ImageDraw.Draw(img)\n",
    "                width, height = img.size\n",
    "                for _ in range(random.randint(1, 3)):\n",
    "                    x1 = random.randint(0, width//4)\n",
    "                    y1 = random.randint(0, height//4)\n",
    "                    x2 = random.randint(x1, width//2)\n",
    "                    y2 = random.randint(y1, height//2)\n",
    "                    draw.rectangle([x1,y1,x2,y2], fill=255)  # Only white occlusion\n",
    "        \n",
    "        except Exception as e:\n",
    "            print(f\"Error applying {mod}: {e}\")\n",
    "            continue\n",
    "    \n",
    "    # Final processing to ensure white background\n",
    "    img = img.convert('L')\n",
    "    # Binarize while preserving white background\n",
    "    img = img.point(lambda p: 255 if p > 200 else 0)\n",
    "    \n",
    "    # Save with quality variation\n",
    "    quality = random.randint(70, 95)\n",
    "    img.save(output_path, quality=quality)"
   ]
  },
  {
   "cell_type": "code",
   "execution_count": 23,
   "metadata": {},
   "outputs": [
    {
     "data": {
      "text/plain": [
       "['air1.png',\n",
       " 'air2.png',\n",
       " 'air3.png',\n",
       " 'earth1.png',\n",
       " 'earth2.png',\n",
       " 'earth3.png',\n",
       " 'fire1.png',\n",
       " 'fire2.png',\n",
       " 'fire3.png',\n",
       " 'water1.png',\n",
       " 'water2.png',\n",
       " 'water3.png']"
      ]
     },
     "execution_count": 23,
     "metadata": {},
     "output_type": "execute_result"
    }
   ],
   "source": [
    "from os import listdir\n",
    "from os.path import isfile, join\n",
    "figures = [f for f in listdir('etalon') if isfile(join('etalon', f))]\n",
    "figures"
   ]
  },
  {
   "cell_type": "code",
   "execution_count": 29,
   "metadata": {},
   "outputs": [
    {
     "name": "stdout",
     "output_type": "stream",
     "text": [
      "Counter({'air1': 402, 'air2': 402, 'air3': 402, 'earth1': 402, 'earth2': 402, 'earth3': 402, 'fire1': 402, 'fire2': 402, 'fire3': 402, 'water1': 402, 'water2': 402, 'water3': 402})\n"
     ]
    }
   ],
   "source": [
    "from  collections import Counter\n",
    "\n",
    "cnt = Counter()\n",
    "mx = -1\n",
    "files = dict()\n",
    "for filename in listdir('images'):\n",
    "        if filename.endswith('.png'):\n",
    "            \n",
    "            if filename.startswith('x'):\n",
    "                continue\n",
    "            else:\n",
    "                label = filename[:filename.find('-')]\n",
    "                if label not in files.keys():\n",
    "                    files[label] = []\n",
    "                files[label].append(filename[filename.find('-'):])\n",
    "                cnt[label] += 1\n",
    "                if cnt[label] > mx:\n",
    "                    mx = cnt[label]\n",
    "print(cnt)\n"
   ]
  },
  {
   "cell_type": "code",
   "execution_count": 28,
   "metadata": {},
   "outputs": [],
   "source": [
    "\n",
    "for element in cnt:\n",
    "    while cnt[element] <= mx:\n",
    "        cnt[element] += 1\n",
    "        output_name = element + '-' + str(cnt[element] + 3000) + '.png'\n",
    "        #print(os.path.join('images', element + files[element][random.randint(0, len(files[element]) - 1)]),)\n",
    "        generate_realistic_variations(\n",
    "           os.path.join('images', element + files[element][random.randint(0, len(files[element]) - 1)]),\n",
    "           os.path.join('images', output_name)\n",
    "        )\n",
    "        "
   ]
  },
  {
   "cell_type": "code",
   "execution_count": 8,
   "metadata": {},
   "outputs": [],
   "source": [
    "\n",
    "for i, figure in enumerate(figures):\n",
    "    for j in range(150):  # 150 variations per figure\n",
    "        output_name = f\"{figure.split('.')[0]}-{j}.png\"\n",
    "        generate_realistic_variations(\n",
    "            os.path.join('etalon', figure),\n",
    "            os.path.join('images', output_name)\n",
    "        )"
   ]
  }
 ],
 "metadata": {
  "kernelspec": {
   "display_name": "Python 3",
   "language": "python",
   "name": "python3"
  },
  "language_info": {
   "codemirror_mode": {
    "name": "ipython",
    "version": 3
   },
   "file_extension": ".py",
   "mimetype": "text/x-python",
   "name": "python",
   "nbconvert_exporter": "python",
   "pygments_lexer": "ipython3",
   "version": "3.10.0"
  },
  "orig_nbformat": 4
 },
 "nbformat": 4,
 "nbformat_minor": 2
}
