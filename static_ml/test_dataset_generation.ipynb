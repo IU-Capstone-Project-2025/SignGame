{
 "cells": [
  {
   "cell_type": "code",
   "execution_count": 1,
   "metadata": {},
   "outputs": [],
   "source": [
    "from PIL import Image, ImageEnhance, ImageFilter, ImageTransform\n",
    "import random\n",
    "from collections import Counter\n",
    "import numpy as np"
   ]
  },
  {
   "cell_type": "code",
   "execution_count": 17,
   "metadata": {},
   "outputs": [],
   "source": [
    "\n",
    "air = [\"air\" + str(i) + '.png' for i in range(1,4)]\n",
    "dark = [\"dark\" + str(i) + '.png' for i in range(1,4)]\n",
    "earth = [\"earth\" + str(i) + '.png' for i in range(1,4)]\n",
    "fire = [\"fire\" + str(i) + '.png' for i in range(1,4)]\n",
    "life = [\"life\" + str(i) + '.png' for i in range(1,4)]\n",
    "light = [\"light\" + str(i) + '.png' for i in range(1,4)]\n",
    "poison = [\"poison\" + str(i) + '.png' for i in range(1,4)]\n",
    "reflfection = [\"reflection\" + str(i) + '.png' for i in range(1,4)]\n",
    "water = [\"water\" + str(i) + '.png' for i in range(1,4)]\n"
   ]
  },
  {
   "cell_type": "code",
   "execution_count": 3,
   "metadata": {},
   "outputs": [],
   "source": [
    "\n",
    "def slightly_change_image(image_path, output_path):\n",
    "    # Open the image\n",
    "    img = Image.open(image_path)\n",
    "    \n",
    "    # Randomly select which modifications to apply\n",
    "    modifications = random.sample([\n",
    "        'brightness', 'contrast', 'color', 'sharpness', 'blur', 'rotate'\n",
    "    ], random.randint(1, 3))\n",
    "    \n",
    "    # Apply selected modifications\n",
    "    for mod in modifications:\n",
    "        if mod == 'brightness':\n",
    "            enhancer = ImageEnhance.Brightness(img)\n",
    "            img = enhancer.enhance(random.uniform(0.9, 1.5))\n",
    "        elif mod == 'contrast':\n",
    "            enhancer = ImageEnhance.Contrast(img)\n",
    "            img = enhancer.enhance(random.uniform(0.8, 1.1))\n",
    "        elif mod == 'color':\n",
    "            enhancer = ImageEnhance.Color(img)\n",
    "            img = enhancer.enhance(random.uniform(0.8, 1.2))\n",
    "        elif mod == 'sharpness':\n",
    "            enhancer = ImageEnhance.Sharpness(img)\n",
    "            img = enhancer.enhance(random.uniform(0.8, 1.3))\n",
    "        elif mod == 'blur':\n",
    "            img = img.filter(ImageFilter.GaussianBlur(radius=random.uniform(0.1, 0.7)))\n",
    "        elif mod == 'rotate':\n",
    "            img = img.rotate(random.uniform(-10, 10), expand=True)\n",
    "    \n",
    "    # Save the modified image\n",
    "    img.save(output_path)"
   ]
  },
  {
   "cell_type": "code",
   "execution_count": 4,
   "metadata": {},
   "outputs": [],
   "source": [
    "from PIL import Image, ImageOps, ImageFilter, ImageChops\n",
    "import numpy as np\n",
    "import random\n",
    "\n",
    "def radical_pixel_transform(image_path, output_path):\n",
    "    img = Image.open(image_path)\n",
    "    \n",
    "    # Convert to numpy array for manipulation\n",
    "    arr = np.array(img)\n",
    "    \n",
    "    # Extreme color shifts\n",
    "    arr[:,:,0] = arr[:,:,0] * random.uniform(0.1, 2.0)  # Red channel\n",
    "    arr[:,:,1] = arr[:,:,1] * random.uniform(0.1, 2.0)  # Green channel\n",
    "    arr[:,:,2] = arr[:,:,2] * random.uniform(0.1, 2.0)  # Blue channel\n",
    "    \n",
    "    # Pixel sorting (sort rows by brightness)\n",
    "    for i in range(arr.shape[0]):\n",
    "        brightness = arr[i,:,0] * 0.299 + arr[i,:,1] * 0.587 + arr[i,:,2] * 0.114\n",
    "        sorted_indices = np.argsort(brightness)\n",
    "        arr[i,:,:] = arr[i,sorted_indices,:]\n",
    "    \n",
    "    # Convert back to image\n",
    "    img = Image.fromarray(np.uint8(arr))\n",
    "    \n",
    "    # Apply extreme filters\n",
    "    img = img.filter(ImageFilter.EDGE_ENHANCE_MORE)\n",
    "    img = ImageOps.posterize(img, random.randint(1, 4))\n",
    "    img = ImageOps.solarize(img, threshold=random.randint(64, 192))\n",
    "    \n",
    "    # Random geometric transformations\n",
    "    if random.random() > 0.5:\n",
    "        img = img.rotate(random.randint(15, 345), expand=True)\n",
    "    if random.random() > 0.5:\n",
    "        img = img.transform(img.size, Image.AFFINE, \n",
    "                          (1, random.uniform(-0.5, 0.5), 0, \n",
    "                           random.uniform(-0.5, 0.5), 1, 0))\n",
    "    \n",
    "    # Save the result\n",
    "    img.save(output_path)\n"
   ]
  },
  {
   "cell_type": "code",
   "execution_count": 18,
   "metadata": {},
   "outputs": [
    {
     "data": {
      "text/plain": [
       "['air1.png',\n",
       " 'air2.png',\n",
       " 'air3.png',\n",
       " 'fire1.png',\n",
       " 'fire2.png',\n",
       " 'fire3.png',\n",
       " 'dark1.png',\n",
       " 'dark2.png',\n",
       " 'dark3.png',\n",
       " 'water1.png',\n",
       " 'water2.png',\n",
       " 'water3.png',\n",
       " 'light1.png',\n",
       " 'light2.png',\n",
       " 'light3.png',\n",
       " 'poison1.png',\n",
       " 'poison2.png',\n",
       " 'poison3.png',\n",
       " 'reflection1.png',\n",
       " 'reflection2.png',\n",
       " 'reflection3.png',\n",
       " 'life1.png',\n",
       " 'life2.png',\n",
       " 'life3.png',\n",
       " 'earth1.png',\n",
       " 'earth2.png',\n",
       " 'earth3.png']"
      ]
     },
     "execution_count": 18,
     "metadata": {},
     "output_type": "execute_result"
    }
   ],
   "source": [
    "figures = air + fire + dark + water + light + poison + reflfection + life + earth\n",
    "figures"
   ]
  },
  {
   "cell_type": "code",
   "execution_count": 19,
   "metadata": {},
   "outputs": [],
   "source": [
    "figures = air + fire + dark + water + light + poison + reflfection + life + earth\n",
    "\n",
    "cnt = Counter(figures)\n",
    "for i in range(1000):\n",
    "    figure = figures[random.randint(0,26)]\n",
    "    cnt[figure] += 1\n",
    "    choose = random.randint(1,20)\n",
    "    if choose== 10:\n",
    "        radical_pixel_transform('etalon/' + figure, 'images/' + 'x' + str(cnt[figure]) + '.png')\n",
    "    else:\n",
    "        slightly_change_image('etalon/' + figure, 'images/'  + figure[:figure.find('.')] +'-' +str(cnt[figure]) + '.png')"
   ]
  },
  {
   "cell_type": "code",
   "execution_count": 38,
   "metadata": {},
   "outputs": [
    {
     "name": "stderr",
     "output_type": "stream",
     "text": [
      "WARNING:absl:Compiled the loaded model, but the compiled metrics have yet to be built. `model.compile_metrics` will be empty until you train or evaluate the model.\n"
     ]
    },
    {
     "name": "stdout",
     "output_type": "stream",
     "text": [
      "\u001b[1m1/1\u001b[0m \u001b[32m━━━━━━━━━━━━━━━━━━━━\u001b[0m\u001b[37m\u001b[0m \u001b[1m0s\u001b[0m 147ms/step\n",
      "\n",
      "Prediction results for circle.png:\n",
      "Class: rectangle (confidence: 100.00%)\n",
      "\n",
      "Class probabilities:\n",
      "circle: 0.00%\n",
      "rectangle: 100.00%\n",
      "unknown: 0.00%\n"
     ]
    }
   ],
   "source": [
    "import tensorflow as tf\n",
    "import numpy as np\n",
    "class_names = {0: 'circle', 1: 'rectangle', 2: 'unknown'}\n",
    "img_path = 'circle.png'\n",
    "img = Image.open(img_path).convert('L')  # Convert to grayscale\n",
    "img = img.resize((64, 64))  # Resize to match training size\n",
    "img_array = np.array(img) / 255.0  # Normalize pixel values\n",
    "img_array = np.expand_dims(img_array, axis=-1)  # Add channel dimension\n",
    "img_array = np.expand_dims(img_array, axis=0)  # Add batch dimension\n",
    "\n",
    "model = tf.keras.models.load_model('high_confidence_model.h5')\n",
    "\n",
    "predictions = model.predict(img_array)\n",
    "predicted_class = np.argmax(predictions[0])\n",
    "confidence = np.max(predictions[0])\n",
    "predicted_class_name = class_names[predicted_class]\n",
    "    \n",
    "# Print results\n",
    "print(f\"\\nPrediction results for {img_path}:\")\n",
    "print(f\"Class: {predicted_class_name} (confidence: {confidence:.2%})\")\n",
    "print(\"\\nClass probabilities:\")\n",
    "for i, prob in enumerate(predictions[0]):\n",
    "    print(f\"{class_names[i]}: {prob:.2%}\")\n"
   ]
  }
 ],
 "metadata": {
  "kernelspec": {
   "display_name": "Python 3",
   "language": "python",
   "name": "python3"
  },
  "language_info": {
   "codemirror_mode": {
    "name": "ipython",
    "version": 3
   },
   "file_extension": ".py",
   "mimetype": "text/x-python",
   "name": "python",
   "nbconvert_exporter": "python",
   "pygments_lexer": "ipython3",
   "version": "3.10.0"
  },
  "orig_nbformat": 4
 },
 "nbformat": 4,
 "nbformat_minor": 2
}
